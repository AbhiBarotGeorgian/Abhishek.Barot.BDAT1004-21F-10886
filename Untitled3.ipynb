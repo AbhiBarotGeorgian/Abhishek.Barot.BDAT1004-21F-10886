{
 "cells": [
  {
   "cell_type": "code",
   "execution_count": 1,
   "id": "a42d39f3",
   "metadata": {},
   "outputs": [
    {
     "data": {
      "text/plain": [
       "6"
      ]
     },
     "execution_count": 1,
     "metadata": {},
     "output_type": "execute_result"
    }
   ],
   "source": [
    "a = 0\n",
    "\n",
    "def b():\n",
    "    global a\n",
    "    a = c(a)\n",
    "    \n",
    "def c(a):\n",
    "    return a + 2\n",
    "\n",
    "b()\n",
    "b()\n",
    "b()\n",
    "a"
   ]
  },
  {
   "cell_type": "code",
   "execution_count": null,
   "id": "ace5e785",
   "metadata": {},
   "outputs": [],
   "source": [
    "First we assign a value as 0. then define b class. after that we assign variable a as global with value already assigned as 0.\n",
    "Then give value of a in class c. which will define in next step. when defining class c we assign value of a in class c. then \n",
    "return a with increment of plus 2.\n",
    "when we call class b() it will give result as 2.\n",
    "when we call class b() for the second time, it will declared global variable value as 2 after returning class c it will give value of b() as 4.\n",
    "when we call class b() for the third time, it will declared global variable value as 4 after returning class c it will give value of class b () as 6.\n",
    "when we call only global variable a it will return value of already assigned valued of class c which is 6."
   ]
  },
  {
   "cell_type": "code",
   "execution_count": 155,
   "id": "96c98996",
   "metadata": {},
   "outputs": [
    {
     "name": "stdout",
     "output_type": "stream",
     "text": [
      "21\n",
      "File not found\n"
     ]
    }
   ],
   "source": [
    "def file_length(file_name):\n",
    "    try:\n",
    "     file = open(file_name)\n",
    "     contents = file.read()\n",
    "     file.close()\n",
    "     print(len(contents))\n",
    "    except FileNotFoundError:\n",
    "        print(\"File not found\".format(file_name))\n",
    "\n",
    "file_length('abhi.py')\n",
    "file_length('program.py')"
   ]
  },
  {
   "cell_type": "code",
   "execution_count": 54,
   "id": "4ea67a69",
   "metadata": {},
   "outputs": [],
   "source": [
    "class Marsupial()\n",
    "    def __init__(self, x, y):\n",
    "        self.x = x\n",
    "        self.y = y\n",
    "        \n",
    "\n",
    "    m = Marsupial()\n",
    "    m.put_in_pouch('doll')\n",
    "    m.put_in_pouch('firetruck')\n",
    "    m.put_in_pouch('kitten')\n",
    "    m.pouch_contents()\n"
   ]
  },
  {
   "cell_type": "code",
   "execution_count": 85,
   "id": "7fcc2d01",
   "metadata": {
    "scrolled": true
   },
   "outputs": [
    {
     "name": "stdout",
     "output_type": "stream",
     "text": [
      "1\n",
      "10\n",
      "5\n",
      "16\n",
      "8\n",
      "4\n",
      "2\n",
      "1\n"
     ]
    }
   ],
   "source": [
    "def Collatz(x):\n",
    "    \n",
    "    print(x)\n",
    "    if x % 2 == 0:\n",
    "        Collatz(x // 2)\n",
    "    elif x == 1:\n",
    "        return x\n",
    "    else:\n",
    "        Collatz(3 * x + 1)\n",
    "\n",
    "Collatz(1)\n",
    "Collatz(10)\n"
   ]
  },
  {
   "cell_type": "code",
   "execution_count": 109,
   "id": "e11f2232",
   "metadata": {},
   "outputs": [
    {
     "name": "stdout",
     "output_type": "stream",
     "text": [
      "0\n",
      " \n",
      "1\n",
      " \n",
      "1\n",
      "1\n",
      " \n",
      "1\n",
      "0\n",
      "0\n",
      "1\n",
      " \n"
     ]
    }
   ],
   "source": [
    "def binary(n):\n",
    "    if n < 2:\n",
    "        print(n)\n",
    "    else:\n",
    "        binary(n//2)\n",
    "        print(n % 2)\n",
    "\n",
    "binary(0)\n",
    "print(\" \")\n",
    "binary(1)\n",
    "print(\" \")\n",
    "binary(3)\n",
    "print(\" \")\n",
    "binary(9)\n",
    "print(\" \")"
   ]
  },
  {
   "cell_type": "code",
   "execution_count": 147,
   "id": "76b0efda",
   "metadata": {},
   "outputs": [],
   "source": [
    "from html.parser import HTMLParser\n",
    "\n",
    "class HeadingParser(HTMLParser):\n",
    "    def handle_starttag(self, tag, attrs):\n",
    "        if tag == 'a':\n",
    "            for attributes in attrs: \n",
    "                if attr[0] == 'href':\n",
    "                    print(attr[1])\n",
    "    def DataHandling(self, data):\n",
    "        print(data,end=\"\")\n",
    "\n",
    "infile = open('Q6.html')\n",
    "content = infile.read()\n",
    "infile.close()\n",
    "htmlpars = HeadingParser()\n",
    "htmlparser.feed(content)"
   ]
  },
  {
   "cell_type": "code",
   "execution_count": null,
   "id": "03fb497a",
   "metadata": {},
   "outputs": [],
   "source": [
    "1) SELECT Temperature(C) FROM table;\n",
    "2) SELECT DISTINCT city FROM table;\n",
    "3) SELECT * FROM table WHERE Country = 'India';\n",
    "4) SELECT * FROM table WHERE Season = 'Fall';\n",
    "5) SELECT AVG(City), AVG(Country), AVG(Season) FROM table WHERE '200' < (SELECT Rainfall(mm)) > '400';\n",
    "6) SELECT City, Country FROM table WHERE (SELECT * FROM table WHERE Season = 'Fall'( SELECT AVG(Temperature(C)) WHERE Temperature > '20') ORDERBY Temperature ASC;\n",
    "7) SELECT COUNT(Rainfall(mm)) FROM table WHERE Country = 'Cairo'; \n",
    "8) SELECT COUNT(Rainfall(mm)) FROM table WHERE Season = 'Winter', Season = 'Spring', Season = 'Summer', Season = 'Fall';\n"
   ]
  },
  {
   "cell_type": "code",
   "execution_count": 153,
   "id": "075ad8a8",
   "metadata": {},
   "outputs": [
    {
     "name": "stdout",
     "output_type": "stream",
     "text": [
      "['THE', 'QUICK', 'BROWN', 'FOX', 'JUMPS', 'OVER', 'THE', 'LAZY', 'DOG']\n",
      "['the', 'quick', 'brown', 'fox', 'jumps', 'over', 'the', 'lazy', 'dog']\n",
      "['the', 'quick', 'brown', 'fox', 'jumps', 'over', 'the', 'lazy', 'dog']\n"
     ]
    }
   ],
   "source": [
    "import random\n",
    "words = ['The', 'quick', 'brown', 'fox', 'jumps', 'over', 'the', 'lazy', 'dog']\n",
    "w = len(words)\n",
    "count = 0\n",
    "\n",
    "for i in range(w):\n",
    "    words[i] = words[i].upper()\n",
    "print(words)\n",
    "\n",
    "for i in range(w):\n",
    "    words[i] = words[i].lower()\n",
    "print(words)\n",
    "\n",
    "for i in range(0, w):\n",
    "    count = count + 1\n",
    "print(words)"
   ]
  },
  {
   "cell_type": "code",
   "execution_count": null,
   "id": "62aac6c1",
   "metadata": {},
   "outputs": [],
   "source": []
  }
 ],
 "metadata": {
  "kernelspec": {
   "display_name": "Python 3",
   "language": "python",
   "name": "python3"
  },
  "language_info": {
   "codemirror_mode": {
    "name": "ipython",
    "version": 3
   },
   "file_extension": ".py",
   "mimetype": "text/x-python",
   "name": "python",
   "nbconvert_exporter": "python",
   "pygments_lexer": "ipython3",
   "version": "3.8.8"
  }
 },
 "nbformat": 4,
 "nbformat_minor": 5
}
